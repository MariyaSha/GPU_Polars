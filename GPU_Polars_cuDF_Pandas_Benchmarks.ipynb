{
  "nbformat": 4,
  "nbformat_minor": 0,
  "metadata": {
    "colab": {
      "provenance": [],
      "gpuType": "T4"
    },
    "kernelspec": {
      "name": "python3",
      "display_name": "Python 3"
    },
    "language_info": {
      "name": "python"
    },
    "accelerator": "GPU"
  },
  "cells": [
    {
      "cell_type": "markdown",
      "source": [
        "# GPU Polars vs cuDF Pandas\n",
        "\n",
        "In the following notebook, we will compare between Polars and Pandas performance on GPU in various tasks.\n",
        "\n",
        "## Install Requirements"
      ],
      "metadata": {
        "id": "05ffctHXKtij"
      }
    },
    {
      "cell_type": "code",
      "source": [
        "!pip install faker\n",
        "!pip install polars\n",
        "!pip install polars[gpu] --extra-index-url=https://pypi.nvidia.com"
      ],
      "metadata": {
        "id": "AwbW-GTyIzd0"
      },
      "execution_count": 4,
      "outputs": []
    },
    {
      "cell_type": "markdown",
      "source": [
        "## Verify Hardware"
      ],
      "metadata": {
        "id": "V7jGCCZnMtfG"
      }
    },
    {
      "cell_type": "code",
      "source": [
        "!nvidia-smi"
      ],
      "metadata": {
        "colab": {
          "base_uri": "https://localhost:8080/"
        },
        "id": "MSzi3JsyMvnK",
        "outputId": "ca616e31-610f-455c-859f-9fe90aad0235"
      },
      "execution_count": 6,
      "outputs": [
        {
          "output_type": "stream",
          "name": "stdout",
          "text": [
            "Thu Oct 24 03:11:54 2024       \n",
            "+---------------------------------------------------------------------------------------+\n",
            "| NVIDIA-SMI 535.104.05             Driver Version: 535.104.05   CUDA Version: 12.2     |\n",
            "|-----------------------------------------+----------------------+----------------------+\n",
            "| GPU  Name                 Persistence-M | Bus-Id        Disp.A | Volatile Uncorr. ECC |\n",
            "| Fan  Temp   Perf          Pwr:Usage/Cap |         Memory-Usage | GPU-Util  Compute M. |\n",
            "|                                         |                      |               MIG M. |\n",
            "|=========================================+======================+======================|\n",
            "|   0  Tesla T4                       Off | 00000000:00:04.0 Off |                    0 |\n",
            "| N/A   67C    P0              32W /  70W |   7691MiB / 15360MiB |      0%      Default |\n",
            "|                                         |                      |                  N/A |\n",
            "+-----------------------------------------+----------------------+----------------------+\n",
            "                                                                                         \n",
            "+---------------------------------------------------------------------------------------+\n",
            "| Processes:                                                                            |\n",
            "|  GPU   GI   CI        PID   Type   Process name                            GPU Memory |\n",
            "|        ID   ID                                                             Usage      |\n",
            "|=======================================================================================|\n",
            "+---------------------------------------------------------------------------------------+\n"
          ]
        }
      ]
    },
    {
      "cell_type": "markdown",
      "source": [
        "## Load Data\n",
        "\n",
        "In the following cell, we will generate a Polars Lazy Frame and a Pandas Data Frame using a dictionary with 10,000 random entries.\n",
        "We will also compare between both structures in the end of the process to ensure they store the same data."
      ],
      "metadata": {
        "id": "yCaZmkQcLCio"
      }
    },
    {
      "cell_type": "code",
      "execution_count": 7,
      "metadata": {
        "colab": {
          "base_uri": "https://localhost:8080/"
        },
        "id": "VFibQNrNIpe9",
        "outputId": "dec6ec8f-b56e-4769-f08a-76fc8f65f2de"
      },
      "outputs": [
        {
          "output_type": "stream",
          "name": "stdout",
          "text": [
            "The cudf.pandas extension is already loaded. To reload it, use:\n",
            "  %reload_ext cudf.pandas\n",
            "shape: (3, 4)\n",
            "┌───────────────┬──────────────────────────────┬────────────┬────────┐\n",
            "│ name          ┆ address                      ┆ profession ┆ salary │\n",
            "│ ---           ┆ ---                          ┆ ---        ┆ ---    │\n",
            "│ str           ┆ str                          ┆ str        ┆ i64    │\n",
            "╞═══════════════╪══════════════════════════════╪════════════╪════════╡\n",
            "│ Cynthia Chang ┆ 23993 James Station Apt. 093 ┆ Developer  ┆ 91263  │\n",
            "│               ┆ S…                           ┆            ┆        │\n",
            "│ Jessica Cox   ┆ 798 Stanley Flat Apt. 619    ┆ Doctor     ┆ 576566 │\n",
            "│               ┆ Cour…                        ┆            ┆        │\n",
            "│ Javier King   ┆ 9544 Norman Corner           ┆ Chef       ┆ 361178 │\n",
            "│               ┆ Reeseboroug…                 ┆            ┆        │\n",
            "└───────────────┴──────────────────────────────┴────────────┴────────┘\n",
            "####################################################################\n",
            "            name                                            address  \\\n",
            "0  Cynthia Chang  23993 James Station Apt. 093\\nSmithmouth, CT 2...   \n",
            "1    Jessica Cox  798 Stanley Flat Apt. 619\\nCourtneyview, MT 54994   \n",
            "2    Javier King         9544 Norman Corner\\nReeseborough, VI 15151   \n",
            "\n",
            "  profession  salary  \n",
            "0  Developer   91263  \n",
            "1     Doctor  576566  \n",
            "2       Chef  361178  \n"
          ]
        }
      ],
      "source": [
        "%load_ext cudf.pandas\n",
        "import pandas as pd\n",
        "import polars as pl\n",
        "from faker import Faker\n",
        "import random\n",
        "import time\n",
        "\n",
        "fake = Faker()\n",
        "\n",
        "data = {\n",
        "    \"name\": [fake.name() for i in range(10000)],\n",
        "    \"address\": [fake.address() for i in range(10000)],\n",
        "    \"profession\": [random.choice([\"Chef\", \"Doctor\", \"Developer\"]) for i in range(10000)],\n",
        "    \"salary\": [random.randint(1, 1000000) for i in range(10000)]\n",
        "}\n",
        "\n",
        "pl_data = pl.LazyFrame(data)\n",
        "pd_data = pd.DataFrame(data)\n",
        "\n",
        "print(pl_data.head(3).collect(engine=\"gpu\"))\n",
        "print(\"####################################################################\")\n",
        "print(pd_data.head(3))"
      ]
    },
    {
      "cell_type": "markdown",
      "source": [
        "## Group By Statement\n",
        "\n",
        "We will perform the same operation across Polars and Pandas, and compair the results.\n",
        "\n",
        "### GPU Polars"
      ],
      "metadata": {
        "id": "3ygSabjVPcQL"
      }
    },
    {
      "cell_type": "code",
      "source": [
        "for i in range(3):\n",
        "    print(\"run\", i)\n",
        "    print(\"----------------------------\")\n",
        "    %time pl_data.group_by(\"profession\").agg(pl.min(\"salary\").alias(\"min\"),pl.max(\"salary\").alias(\"max\"),pl.mean(\"salary\").alias(\"avg\"),pl.count(\"salary\").alias(\"count\")).collect(engine=\"gpu\")\n",
        "    print(\"----------------------------\")\n",
        "\n",
        "%time pl_data.group_by(\"profession\").agg(pl.min(\"salary\").alias(\"min\"),pl.max(\"salary\").alias(\"max\"),pl.mean(\"salary\").alias(\"avg\"),pl.count(\"salary\").alias(\"count\")).collect(engine=\"gpu\")"
      ],
      "metadata": {
        "colab": {
          "base_uri": "https://localhost:8080/",
          "height": 487
        },
        "id": "cPSaX85MJUPO",
        "outputId": "2b630758-bbc8-4e3c-cce9-fb0df86e03ad"
      },
      "execution_count": 8,
      "outputs": [
        {
          "output_type": "stream",
          "name": "stdout",
          "text": [
            "run 0\n",
            "----------------------------\n",
            "CPU times: user 6.89 ms, sys: 893 µs, total: 7.79 ms\n",
            "Wall time: 6.92 ms\n",
            "----------------------------\n",
            "run 1\n",
            "----------------------------\n",
            "CPU times: user 4.85 ms, sys: 0 ns, total: 4.85 ms\n",
            "Wall time: 4.68 ms\n",
            "----------------------------\n",
            "run 2\n",
            "----------------------------\n",
            "CPU times: user 4.59 ms, sys: 0 ns, total: 4.59 ms\n",
            "Wall time: 4.39 ms\n",
            "----------------------------\n",
            "CPU times: user 3.1 ms, sys: 849 µs, total: 3.95 ms\n",
            "Wall time: 3.73 ms\n"
          ]
        },
        {
          "output_type": "execute_result",
          "data": {
            "text/plain": [
              "shape: (3, 5)\n",
              "┌────────────┬─────┬────────┬───────────────┬───────┐\n",
              "│ profession ┆ min ┆ max    ┆ avg           ┆ count │\n",
              "│ ---        ┆ --- ┆ ---    ┆ ---           ┆ ---   │\n",
              "│ str        ┆ i64 ┆ i64    ┆ f64           ┆ u32   │\n",
              "╞════════════╪═════╪════════╪═══════════════╪═══════╡\n",
              "│ Doctor     ┆ 77  ┆ 999970 ┆ 509942.660856 ┆ 3270  │\n",
              "│ Developer  ┆ 465 ┆ 999980 ┆ 500198.771378 ┆ 3368  │\n",
              "│ Chef       ┆ 901 ┆ 999728 ┆ 499816.211481 ┆ 3362  │\n",
              "└────────────┴─────┴────────┴───────────────┴───────┘"
            ],
            "text/html": [
              "<div><style>\n",
              ".dataframe > thead > tr,\n",
              ".dataframe > tbody > tr {\n",
              "  text-align: right;\n",
              "  white-space: pre-wrap;\n",
              "}\n",
              "</style>\n",
              "<small>shape: (3, 5)</small><table border=\"1\" class=\"dataframe\"><thead><tr><th>profession</th><th>min</th><th>max</th><th>avg</th><th>count</th></tr><tr><td>str</td><td>i64</td><td>i64</td><td>f64</td><td>u32</td></tr></thead><tbody><tr><td>&quot;Doctor&quot;</td><td>77</td><td>999970</td><td>509942.660856</td><td>3270</td></tr><tr><td>&quot;Developer&quot;</td><td>465</td><td>999980</td><td>500198.771378</td><td>3368</td></tr><tr><td>&quot;Chef&quot;</td><td>901</td><td>999728</td><td>499816.211481</td><td>3362</td></tr></tbody></table></div>"
            ]
          },
          "metadata": {},
          "execution_count": 8
        }
      ]
    },
    {
      "cell_type": "markdown",
      "source": [
        "### cuDF Pandas"
      ],
      "metadata": {
        "id": "B0B7DQFFMlPu"
      }
    },
    {
      "cell_type": "code",
      "source": [
        "for i in range(3):\n",
        "  print(\"run\", i)\n",
        "  print(\"----------------------------\")\n",
        "  %time pd_data.groupby(\"profession\").agg({'salary': ['min', 'max', 'mean', 'count']})\n",
        "  print(\"----------------------------\")\n",
        "\n",
        "%time pd_data.groupby(\"profession\").agg({'salary': ['min', 'max', 'mean', 'count']})"
      ],
      "metadata": {
        "colab": {
          "base_uri": "https://localhost:8080/",
          "height": 501
        },
        "id": "SCR29V38Jd-6",
        "outputId": "0acd939c-78ae-4d73-ea82-c3f4be8dcdc7"
      },
      "execution_count": 9,
      "outputs": [
        {
          "output_type": "stream",
          "name": "stdout",
          "text": [
            "run 0\n",
            "----------------------------\n",
            "CPU times: user 6.78 ms, sys: 1.98 ms, total: 8.77 ms\n",
            "Wall time: 11.4 ms\n",
            "----------------------------\n",
            "run 1\n",
            "----------------------------\n",
            "CPU times: user 5.84 ms, sys: 2.89 ms, total: 8.73 ms\n",
            "Wall time: 8.15 ms\n",
            "----------------------------\n",
            "run 2\n",
            "----------------------------\n",
            "CPU times: user 12.6 ms, sys: 1.96 ms, total: 14.6 ms\n",
            "Wall time: 14.1 ms\n",
            "----------------------------\n",
            "CPU times: user 7.18 ms, sys: 918 µs, total: 8.1 ms\n",
            "Wall time: 6.99 ms\n"
          ]
        },
        {
          "output_type": "execute_result",
          "data": {
            "text/plain": [
              "           salary                             \n",
              "              min     max           mean count\n",
              "profession                                    \n",
              "Chef          901  999728  499816.211481  3362\n",
              "Developer     465  999980  500198.771378  3368\n",
              "Doctor         77  999970  509942.660856  3270"
            ],
            "text/html": [
              "\n",
              "  <div id=\"df-7be8915e-0fd0-457e-b0fd-2c9178866b44\" class=\"colab-df-container\">\n",
              "    <div>\n",
              "<style scoped>\n",
              "    .dataframe tbody tr th:only-of-type {\n",
              "        vertical-align: middle;\n",
              "    }\n",
              "\n",
              "    .dataframe tbody tr th {\n",
              "        vertical-align: top;\n",
              "    }\n",
              "\n",
              "    .dataframe thead tr th {\n",
              "        text-align: left;\n",
              "    }\n",
              "\n",
              "    .dataframe thead tr:last-of-type th {\n",
              "        text-align: right;\n",
              "    }\n",
              "</style>\n",
              "<table border=\"1\" class=\"dataframe\">\n",
              "  <thead>\n",
              "    <tr>\n",
              "      <th></th>\n",
              "      <th colspan=\"4\" halign=\"left\">salary</th>\n",
              "    </tr>\n",
              "    <tr>\n",
              "      <th></th>\n",
              "      <th>min</th>\n",
              "      <th>max</th>\n",
              "      <th>mean</th>\n",
              "      <th>count</th>\n",
              "    </tr>\n",
              "    <tr>\n",
              "      <th>profession</th>\n",
              "      <th></th>\n",
              "      <th></th>\n",
              "      <th></th>\n",
              "      <th></th>\n",
              "    </tr>\n",
              "  </thead>\n",
              "  <tbody>\n",
              "    <tr>\n",
              "      <th>Chef</th>\n",
              "      <td>901</td>\n",
              "      <td>999728</td>\n",
              "      <td>499816.211481</td>\n",
              "      <td>3362</td>\n",
              "    </tr>\n",
              "    <tr>\n",
              "      <th>Developer</th>\n",
              "      <td>465</td>\n",
              "      <td>999980</td>\n",
              "      <td>500198.771378</td>\n",
              "      <td>3368</td>\n",
              "    </tr>\n",
              "    <tr>\n",
              "      <th>Doctor</th>\n",
              "      <td>77</td>\n",
              "      <td>999970</td>\n",
              "      <td>509942.660856</td>\n",
              "      <td>3270</td>\n",
              "    </tr>\n",
              "  </tbody>\n",
              "</table>\n",
              "</div>\n",
              "    <div class=\"colab-df-buttons\">\n",
              "\n",
              "  <div class=\"colab-df-container\">\n",
              "    <button class=\"colab-df-convert\" onclick=\"convertToInteractive('df-7be8915e-0fd0-457e-b0fd-2c9178866b44')\"\n",
              "            title=\"Convert this dataframe to an interactive table.\"\n",
              "            style=\"display:none;\">\n",
              "\n",
              "  <svg xmlns=\"http://www.w3.org/2000/svg\" height=\"24px\" viewBox=\"0 -960 960 960\">\n",
              "    <path d=\"M120-120v-720h720v720H120Zm60-500h600v-160H180v160Zm220 220h160v-160H400v160Zm0 220h160v-160H400v160ZM180-400h160v-160H180v160Zm440 0h160v-160H620v160ZM180-180h160v-160H180v160Zm440 0h160v-160H620v160Z\"/>\n",
              "  </svg>\n",
              "    </button>\n",
              "\n",
              "  <style>\n",
              "    .colab-df-container {\n",
              "      display:flex;\n",
              "      gap: 12px;\n",
              "    }\n",
              "\n",
              "    .colab-df-convert {\n",
              "      background-color: #E8F0FE;\n",
              "      border: none;\n",
              "      border-radius: 50%;\n",
              "      cursor: pointer;\n",
              "      display: none;\n",
              "      fill: #1967D2;\n",
              "      height: 32px;\n",
              "      padding: 0 0 0 0;\n",
              "      width: 32px;\n",
              "    }\n",
              "\n",
              "    .colab-df-convert:hover {\n",
              "      background-color: #E2EBFA;\n",
              "      box-shadow: 0px 1px 2px rgba(60, 64, 67, 0.3), 0px 1px 3px 1px rgba(60, 64, 67, 0.15);\n",
              "      fill: #174EA6;\n",
              "    }\n",
              "\n",
              "    .colab-df-buttons div {\n",
              "      margin-bottom: 4px;\n",
              "    }\n",
              "\n",
              "    [theme=dark] .colab-df-convert {\n",
              "      background-color: #3B4455;\n",
              "      fill: #D2E3FC;\n",
              "    }\n",
              "\n",
              "    [theme=dark] .colab-df-convert:hover {\n",
              "      background-color: #434B5C;\n",
              "      box-shadow: 0px 1px 3px 1px rgba(0, 0, 0, 0.15);\n",
              "      filter: drop-shadow(0px 1px 2px rgba(0, 0, 0, 0.3));\n",
              "      fill: #FFFFFF;\n",
              "    }\n",
              "  </style>\n",
              "\n",
              "    <script>\n",
              "      const buttonEl =\n",
              "        document.querySelector('#df-7be8915e-0fd0-457e-b0fd-2c9178866b44 button.colab-df-convert');\n",
              "      buttonEl.style.display =\n",
              "        google.colab.kernel.accessAllowed ? 'block' : 'none';\n",
              "\n",
              "      async function convertToInteractive(key) {\n",
              "        const element = document.querySelector('#df-7be8915e-0fd0-457e-b0fd-2c9178866b44');\n",
              "        const dataTable =\n",
              "          await google.colab.kernel.invokeFunction('convertToInteractive',\n",
              "                                                    [key], {});\n",
              "        if (!dataTable) return;\n",
              "\n",
              "        const docLinkHtml = 'Like what you see? Visit the ' +\n",
              "          '<a target=\"_blank\" href=https://colab.research.google.com/notebooks/data_table.ipynb>data table notebook</a>'\n",
              "          + ' to learn more about interactive tables.';\n",
              "        element.innerHTML = '';\n",
              "        dataTable['output_type'] = 'display_data';\n",
              "        await google.colab.output.renderOutput(dataTable, element);\n",
              "        const docLink = document.createElement('div');\n",
              "        docLink.innerHTML = docLinkHtml;\n",
              "        element.appendChild(docLink);\n",
              "      }\n",
              "    </script>\n",
              "  </div>\n",
              "\n",
              "\n",
              "<div id=\"df-fa6d8500-a428-4582-96e1-18ee579a4553\">\n",
              "  <button class=\"colab-df-quickchart\" onclick=\"quickchart('df-fa6d8500-a428-4582-96e1-18ee579a4553')\"\n",
              "            title=\"Suggest charts\"\n",
              "            style=\"display:none;\">\n",
              "\n",
              "<svg xmlns=\"http://www.w3.org/2000/svg\" height=\"24px\"viewBox=\"0 0 24 24\"\n",
              "     width=\"24px\">\n",
              "    <g>\n",
              "        <path d=\"M19 3H5c-1.1 0-2 .9-2 2v14c0 1.1.9 2 2 2h14c1.1 0 2-.9 2-2V5c0-1.1-.9-2-2-2zM9 17H7v-7h2v7zm4 0h-2V7h2v10zm4 0h-2v-4h2v4z\"/>\n",
              "    </g>\n",
              "</svg>\n",
              "  </button>\n",
              "\n",
              "<style>\n",
              "  .colab-df-quickchart {\n",
              "      --bg-color: #E8F0FE;\n",
              "      --fill-color: #1967D2;\n",
              "      --hover-bg-color: #E2EBFA;\n",
              "      --hover-fill-color: #174EA6;\n",
              "      --disabled-fill-color: #AAA;\n",
              "      --disabled-bg-color: #DDD;\n",
              "  }\n",
              "\n",
              "  [theme=dark] .colab-df-quickchart {\n",
              "      --bg-color: #3B4455;\n",
              "      --fill-color: #D2E3FC;\n",
              "      --hover-bg-color: #434B5C;\n",
              "      --hover-fill-color: #FFFFFF;\n",
              "      --disabled-bg-color: #3B4455;\n",
              "      --disabled-fill-color: #666;\n",
              "  }\n",
              "\n",
              "  .colab-df-quickchart {\n",
              "    background-color: var(--bg-color);\n",
              "    border: none;\n",
              "    border-radius: 50%;\n",
              "    cursor: pointer;\n",
              "    display: none;\n",
              "    fill: var(--fill-color);\n",
              "    height: 32px;\n",
              "    padding: 0;\n",
              "    width: 32px;\n",
              "  }\n",
              "\n",
              "  .colab-df-quickchart:hover {\n",
              "    background-color: var(--hover-bg-color);\n",
              "    box-shadow: 0 1px 2px rgba(60, 64, 67, 0.3), 0 1px 3px 1px rgba(60, 64, 67, 0.15);\n",
              "    fill: var(--button-hover-fill-color);\n",
              "  }\n",
              "\n",
              "  .colab-df-quickchart-complete:disabled,\n",
              "  .colab-df-quickchart-complete:disabled:hover {\n",
              "    background-color: var(--disabled-bg-color);\n",
              "    fill: var(--disabled-fill-color);\n",
              "    box-shadow: none;\n",
              "  }\n",
              "\n",
              "  .colab-df-spinner {\n",
              "    border: 2px solid var(--fill-color);\n",
              "    border-color: transparent;\n",
              "    border-bottom-color: var(--fill-color);\n",
              "    animation:\n",
              "      spin 1s steps(1) infinite;\n",
              "  }\n",
              "\n",
              "  @keyframes spin {\n",
              "    0% {\n",
              "      border-color: transparent;\n",
              "      border-bottom-color: var(--fill-color);\n",
              "      border-left-color: var(--fill-color);\n",
              "    }\n",
              "    20% {\n",
              "      border-color: transparent;\n",
              "      border-left-color: var(--fill-color);\n",
              "      border-top-color: var(--fill-color);\n",
              "    }\n",
              "    30% {\n",
              "      border-color: transparent;\n",
              "      border-left-color: var(--fill-color);\n",
              "      border-top-color: var(--fill-color);\n",
              "      border-right-color: var(--fill-color);\n",
              "    }\n",
              "    40% {\n",
              "      border-color: transparent;\n",
              "      border-right-color: var(--fill-color);\n",
              "      border-top-color: var(--fill-color);\n",
              "    }\n",
              "    60% {\n",
              "      border-color: transparent;\n",
              "      border-right-color: var(--fill-color);\n",
              "    }\n",
              "    80% {\n",
              "      border-color: transparent;\n",
              "      border-right-color: var(--fill-color);\n",
              "      border-bottom-color: var(--fill-color);\n",
              "    }\n",
              "    90% {\n",
              "      border-color: transparent;\n",
              "      border-bottom-color: var(--fill-color);\n",
              "    }\n",
              "  }\n",
              "</style>\n",
              "\n",
              "  <script>\n",
              "    async function quickchart(key) {\n",
              "      const quickchartButtonEl =\n",
              "        document.querySelector('#' + key + ' button');\n",
              "      quickchartButtonEl.disabled = true;  // To prevent multiple clicks.\n",
              "      quickchartButtonEl.classList.add('colab-df-spinner');\n",
              "      try {\n",
              "        const charts = await google.colab.kernel.invokeFunction(\n",
              "            'suggestCharts', [key], {});\n",
              "      } catch (error) {\n",
              "        console.error('Error during call to suggestCharts:', error);\n",
              "      }\n",
              "      quickchartButtonEl.classList.remove('colab-df-spinner');\n",
              "      quickchartButtonEl.classList.add('colab-df-quickchart-complete');\n",
              "    }\n",
              "    (() => {\n",
              "      let quickchartButtonEl =\n",
              "        document.querySelector('#df-fa6d8500-a428-4582-96e1-18ee579a4553 button');\n",
              "      quickchartButtonEl.style.display =\n",
              "        google.colab.kernel.accessAllowed ? 'block' : 'none';\n",
              "    })();\n",
              "  </script>\n",
              "</div>\n",
              "\n",
              "    </div>\n",
              "  </div>\n"
            ],
            "application/vnd.google.colaboratory.intrinsic+json": {
              "type": "dataframe",
              "summary": "{\n  \"name\": \"get_ipython()\",\n  \"rows\": 3,\n  \"fields\": [\n    {\n      \"column\": [\n        \"profession\",\n        \"\"\n      ],\n      \"properties\": {\n        \"dtype\": \"string\",\n        \"num_unique_values\": 3,\n        \"samples\": [\n          \"Chef\",\n          \"Developer\",\n          \"Doctor\"\n        ],\n        \"semantic_type\": \"\",\n        \"description\": \"\"\n      }\n    },\n    {\n      \"column\": [\n        \"salary\",\n        \"min\"\n      ],\n      \"properties\": {\n        \"dtype\": \"number\",\n        \"std\": 412,\n        \"min\": 77,\n        \"max\": 901,\n        \"num_unique_values\": 3,\n        \"samples\": [\n          901,\n          465,\n          77\n        ],\n        \"semantic_type\": \"\",\n        \"description\": \"\"\n      }\n    },\n    {\n      \"column\": [\n        \"salary\",\n        \"max\"\n      ],\n      \"properties\": {\n        \"dtype\": \"number\",\n        \"std\": 142,\n        \"min\": 999728,\n        \"max\": 999980,\n        \"num_unique_values\": 3,\n        \"samples\": [\n          999728,\n          999980,\n          999970\n        ],\n        \"semantic_type\": \"\",\n        \"description\": \"\"\n      }\n    },\n    {\n      \"column\": [\n        \"salary\",\n        \"mean\"\n      ],\n      \"properties\": {\n        \"dtype\": \"number\",\n        \"std\": 5739.261148586746,\n        \"min\": 499816.2114812611,\n        \"max\": 509942.6608562691,\n        \"num_unique_values\": 3,\n        \"samples\": [\n          499816.2114812611,\n          500198.7713776722,\n          509942.6608562691\n        ],\n        \"semantic_type\": \"\",\n        \"description\": \"\"\n      }\n    },\n    {\n      \"column\": [\n        \"salary\",\n        \"count\"\n      ],\n      \"properties\": {\n        \"dtype\": \"number\",\n        \"std\": 54,\n        \"min\": 3270,\n        \"max\": 3368,\n        \"num_unique_values\": 3,\n        \"samples\": [\n          3362,\n          3368,\n          3270\n        ],\n        \"semantic_type\": \"\",\n        \"description\": \"\"\n      }\n    }\n  ]\n}"
            }
          },
          "metadata": {},
          "execution_count": 9
        }
      ]
    },
    {
      "cell_type": "code",
      "source": [],
      "metadata": {
        "id": "Vn_XpHC8gqTY"
      },
      "execution_count": null,
      "outputs": []
    }
  ]
}